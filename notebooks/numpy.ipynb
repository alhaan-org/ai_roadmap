{
 "cells": [
  {
   "cell_type": "code",
   "execution_count": null,
   "id": "initial_id",
   "metadata": {
    "collapsed": true
   },
   "outputs": [],
   "source": "## In this module we will learn to code in Numpy Library used in Python"
  },
  {
   "metadata": {
    "ExecuteTime": {
     "end_time": "2025-10-31T18:25:20.069342Z",
     "start_time": "2025-10-31T18:25:20.061095Z"
    }
   },
   "cell_type": "code",
   "source": [
    "import numpy as np\n",
    "\n",
    "arr = np.array([[1, 2, 4]\n",
    "               ,[6, 7, 8],\n",
    "                [8, 9, 0]])\n",
    "\n",
    "print(arr.dtype)\n"
   ],
   "id": "381a091d81af6c2a",
   "outputs": [
    {
     "name": "stdout",
     "output_type": "stream",
     "text": [
      "int64\n"
     ]
    }
   ],
   "execution_count": 13
  },
  {
   "metadata": {
    "ExecuteTime": {
     "end_time": "2025-10-31T18:27:52.036495Z",
     "start_time": "2025-10-31T18:27:52.028794Z"
    }
   },
   "cell_type": "code",
   "source": [
    "u1 = np.array([2, 4, 5])\n",
    "u2 = np.array([[2],\n",
    "              [5]])\n",
    "\n",
    "print(u1 + u2)"
   ],
   "id": "150a3fd388d10b96",
   "outputs": [
    {
     "name": "stdout",
     "output_type": "stream",
     "text": [
      "[[ 4  6  7]\n",
      " [ 7  9 10]]\n"
     ]
    }
   ],
   "execution_count": 16
  },
  {
   "metadata": {
    "ExecuteTime": {
     "end_time": "2025-10-31T18:30:58.786888Z",
     "start_time": "2025-10-31T18:30:58.770337Z"
    }
   },
   "cell_type": "code",
   "source": [
    "fill = np.full([3, 1, 2], 7)\n",
    "\n",
    "print(fill)"
   ],
   "id": "a62bc6c3d852a558",
   "outputs": [
    {
     "name": "stdout",
     "output_type": "stream",
     "text": [
      "[[[7 7]]\n",
      "\n",
      " [[7 7]]\n",
      "\n",
      " [[7 7]]]\n"
     ]
    }
   ],
   "execution_count": 25
  },
  {
   "metadata": {
    "ExecuteTime": {
     "end_time": "2025-10-31T18:38:26.623698Z",
     "start_time": "2025-10-31T18:38:26.601667Z"
    }
   },
   "cell_type": "code",
   "source": [
    "randoms = np.random.randint(1, 25, (3, 3))\n",
    "print(randoms)"
   ],
   "id": "a3112f9b3a8c844d",
   "outputs": [
    {
     "name": "stdout",
     "output_type": "stream",
     "text": [
      "[[ 4  1 13]\n",
      " [ 2 14 12]\n",
      " [11  2 21]]\n"
     ]
    }
   ],
   "execution_count": 31
  }
 ],
 "metadata": {
  "kernelspec": {
   "display_name": "Python 3",
   "language": "python",
   "name": "python3"
  },
  "language_info": {
   "codemirror_mode": {
    "name": "ipython",
    "version": 2
   },
   "file_extension": ".py",
   "mimetype": "text/x-python",
   "name": "python",
   "nbconvert_exporter": "python",
   "pygments_lexer": "ipython2",
   "version": "2.7.6"
  }
 },
 "nbformat": 4,
 "nbformat_minor": 5
}
